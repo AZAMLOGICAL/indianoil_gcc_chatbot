{
 "cells": [
  {
   "cell_type": "code",
   "execution_count": 1,
   "id": "44a38b50",
   "metadata": {},
   "outputs": [],
   "source": [
    "from langchain_community.vectorstores import Chroma\n",
    "from langchain_ollama import OllamaEmbeddings"
   ]
  },
  {
   "cell_type": "code",
   "execution_count": 2,
   "id": "0e4e6c08",
   "metadata": {},
   "outputs": [],
   "source": [
    "persist_directory = \"../chroma_db\""
   ]
  },
  {
   "cell_type": "code",
   "execution_count": 3,
   "id": "0f250d2c",
   "metadata": {},
   "outputs": [],
   "source": [
    "embedding_id = \"mxbai-embed-large\""
   ]
  },
  {
   "cell_type": "code",
   "execution_count": 4,
   "id": "bc307937",
   "metadata": {},
   "outputs": [],
   "source": [
    "embedding = OllamaEmbeddings(model = embedding_id)"
   ]
  },
  {
   "cell_type": "code",
   "execution_count": 5,
   "id": "ae177041",
   "metadata": {},
   "outputs": [
    {
     "name": "stderr",
     "output_type": "stream",
     "text": [
      "C:\\Users\\engma\\AppData\\Local\\Temp\\ipykernel_11724\\3479936724.py:1: LangChainDeprecationWarning: The class `Chroma` was deprecated in LangChain 0.2.9 and will be removed in 1.0. An updated version of the class exists in the :class:`~langchain-chroma package and should be used instead. To use it run `pip install -U :class:`~langchain-chroma` and import as `from :class:`~langchain_chroma import Chroma``.\n",
      "  vector_store = Chroma(\n"
     ]
    }
   ],
   "source": [
    "vector_store = Chroma(\n",
    "    persist_directory = persist_directory,\n",
    "    embedding_function=embedding\n",
    ")"
   ]
  },
  {
   "cell_type": "code",
   "execution_count": null,
   "id": "f0f98ebe",
   "metadata": {},
   "outputs": [],
   "source": [
    "from langchain_core.prompts import ChatPromptTemplate\n",
    "system_prompt = \"\"\"\n",
    "You are the lawyer and author of the contract agreement written in the organisation Indian Oil Corporation Limited.\n",
    "Your job is to help the contractors and the officers of the organisation to do theiur job better by making them understand various clause agreements,\n",
    "quote the necessary contract agreements if asked about the related contract agreements.\n",
    "\"\"\"\n",
    "\n",
    "\n",
    "\n"
   ]
  },
  {
   "cell_type": "code",
   "execution_count": null,
   "id": "7680a7dc",
   "metadata": {},
   "outputs": [],
   "source": []
  },
  {
   "cell_type": "code",
   "execution_count": null,
   "id": "c7d4458c",
   "metadata": {},
   "outputs": [],
   "source": []
  }
 ],
 "metadata": {
  "kernelspec": {
   "display_name": "venv",
   "language": "python",
   "name": "python3"
  },
  "language_info": {
   "codemirror_mode": {
    "name": "ipython",
    "version": 3
   },
   "file_extension": ".py",
   "mimetype": "text/x-python",
   "name": "python",
   "nbconvert_exporter": "python",
   "pygments_lexer": "ipython3",
   "version": "3.11.7"
  }
 },
 "nbformat": 4,
 "nbformat_minor": 5
}
