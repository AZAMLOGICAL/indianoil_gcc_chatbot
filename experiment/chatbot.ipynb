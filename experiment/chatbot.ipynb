{
 "cells": [
  {
   "cell_type": "code",
   "execution_count": null,
   "id": "0",
   "metadata": {},
   "outputs": [],
   "source": [
    "# load the document\n",
    "from langchain_community.document_loaders import  PDFPlumberLoader\n",
    "import re\n"
   ]
  },
  {
   "cell_type": "code",
   "execution_count": null,
   "id": "1",
   "metadata": {},
   "outputs": [],
   "source": [
    "import pdfplumber\n",
    "\n",
    "pages = []\n",
    "with pdfplumber.open(r\"../document/GCC_e78f9d59-77bb-4de7-99f41730977875550_Shefali_Singh.pdf\") as pdf:\n",
    "    for page in pdf.pages:\n",
    "        # Extract text\n",
    "        text = page.extract_text()\n",
    "        \n",
    "        # Extract tables\n",
    "        tables = page.extract_tables()\n",
    "        \n",
    "        pages.append({\n",
    "            \"text\" : text,\n",
    "            \"tables\" : tables\n",
    "        })"
   ]
  },
  {
   "cell_type": "code",
   "execution_count": null,
   "id": "2",
   "metadata": {},
   "outputs": [],
   "source": [
    "for page in pages[1:]:\n",
    "    # Extract the text of every page\n",
    "    text = page['text']\n",
    "    # remove the Indian Oil Corporation General Conditions of Contract\\n from every text\n",
    "    header = 'Indian Oil Corporation General Conditions of Contract\\n'\n",
    "    text = re.sub(r'^' + re.escape(header), '', text)\n",
    "    # Replace the page text with this one\n",
    "    page['text'] = text"
   ]
  },
  {
   "cell_type": "code",
   "execution_count": null,
   "id": "3",
   "metadata": {},
   "outputs": [],
   "source": [
    "# Use recursive text splitter to divide the text into chuncks\n"
   ]
  }
 ],
 "metadata": {
  "kernelspec": {
   "display_name": "venv",
   "language": "python",
   "name": "python3"
  },
  "language_info": {
   "codemirror_mode": {
    "name": "ipython",
    "version": 3
   },
   "file_extension": ".py",
   "mimetype": "text/x-python",
   "name": "python",
   "nbconvert_exporter": "python",
   "pygments_lexer": "ipython3",
   "version": "3.11.7"
  }
 },
 "nbformat": 4,
 "nbformat_minor": 5
}
