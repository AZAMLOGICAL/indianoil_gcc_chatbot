{
 "cells": [
  {
   "cell_type": "code",
   "execution_count": null,
   "id": "cf517b22",
   "metadata": {},
   "outputs": [],
   "source": [
    "# load the document\n",
    "from langchain_community.document_loaders import  PDFPlumberLoader\n"
   ]
  },
  {
   "cell_type": "code",
   "execution_count": 4,
   "id": "f9e4d7d7",
   "metadata": {},
   "outputs": [],
   "source": [
    "loader = PDFPlumberLoader('../document/GCC_e78f9d59-77bb-4de7-99f41730977875550_Shefali_Singh.pdf')\n",
    "pages = []\n",
    "async for page in loader.alazy_load():\n",
    "    pages.append(page)"
   ]
  },
  {
   "cell_type": "code",
   "execution_count": 5,
   "id": "f75b50cb",
   "metadata": {},
   "outputs": [
    {
     "name": "stdout",
     "output_type": "stream",
     "text": [
      "{'source': '../document/GCC_e78f9d59-77bb-4de7-99f41730977875550_Shefali_Singh.pdf', 'file_path': '../document/GCC_e78f9d59-77bb-4de7-99f41730977875550_Shefali_Singh.pdf', 'page': 0, 'total_pages': 174, 'CreationDate': 'D:20170713112111Z', 'Creator': 'Online2PDF.com', 'ModDate': \"D:20180524230634+05'30'\", 'Producer': 'Online2PDF.com'}\n",
      "\n"
     ]
    }
   ],
   "source": [
    "print(f\"{pages[0].metadata}\\n\")"
   ]
  },
  {
   "cell_type": "code",
   "execution_count": 6,
   "id": "253cb68c",
   "metadata": {},
   "outputs": [
    {
     "name": "stdout",
     "output_type": "stream",
     "text": [
      "Indian Oil Corporation General Conditions of Contract\n",
      "GENERAL CONDITIONS OF CONTRACT\n",
      "SECTION 1\n",
      "DEFINITIONS\n",
      "1.0.0.0 The following expressions hereunder and elsewhere in the Contract Documents used, unless\n",
      "repugnant to the subject or context thereof, shall have the following meanings hereunder\n",
      "respectively assigned to them, namely:\n",
      "1.1.0.0 \"Acceptance of Tender\" shall mean the Acceptance of Tender issued by the OWNER to the\n",
      "CONTRACTOR, and shall include a letter, telegram or fax of acceptance or other notification of\n",
      "award of work, and a detailed Letter of Acceptance.\n",
      "1.2.0.0 \"Approval\" shall mean the written and signed approval of the OWNER or of Engineer-in-Charge or\n",
      "Consultant authorised in this behalf by the OWNER, and with respect to a plan or drawing shall\n",
      "include an approval in Code 2, subject to the limitation(s) specified in such approval.\n",
      "1.3.0.0 \"Approval in Code 2\" shall mean an approval to proceed with the work covered by plans or\n",
      "drawings subject to certain limitation(s) as specified in such approval.\n",
      "1.4.0.0 The \"Contract\" shall mean the agreement between the parties as derived from the Contract\n",
      "Documents.\n",
      "1.5.0.0 The \"CONTRACTOR\" shall mean Individual, Agency, Firm or Company (whether incorporated or\n",
      "not) selected by the OWNER for the performance of the Contract and shall include its legal\n",
      "representatives, successors and permitted assigns.\n",
      "1.6.0.0 The \"Contract Documents\" shall mean the contract documents as defined in Article 1 in the Form of\n",
      "Contract.\n",
      "1.7.0.0 \"Completion\" or \"Final Completion\" shall mean the successful provision of all materials and inputs\n",
      "and the successful completion and conclusion of all activities required in all respects to complete\n",
      "the contractual works in accordance with the contract, but shall not include the obligation to rectify\n",
      "defects during the Defect Liability Period.\n",
      "1.8.0.0 \"Completion Certificate\" shall mean the Completion Certificate issued by the Engineer-in-Charge in\n",
      "accordance with the provisions hereof.\n",
      "1.9.0.0 \"Commissioning\" of a Plant or Unit shall mean pressing into service the unit(s), equipment(s),\n",
      "vessels, pipeline(s), machinery and systems and sub-systems comprising the Plant, in accordance\n",
      "with the approved Operation Manual and as per procedures recommended by the\n",
      "Designer/Process Licensor or Supplier thereof, and approved by the OWNER, after successful trial\n",
      "runs of the Plant/Unit.\n",
      "1.10.0.0 \"Consultant\" shall mean the Consultant appointed by the OWNER for the Project or the Works.\n",
      "1.11.0.0 \"Consumables\" shall mean all items which are consumed in the execution of the Work, without\n",
      "being directly incorporated in the Work, such as fuel, electricity, water, POL, welding rods,\n",
      "electrodes and utilities.\n",
      "1.12.0.0 \"Defect Liability Period\" shall mean the defect liability period as specified in the Contract.\n",
      "1.13.0.0 The \"Engineer-in-Charge\" shall mean the Engineer or other officer of the OWNER, Consultant or\n",
      "other organisation for the time being nominated by the OWNER in writing to act as Engineer-in-\n",
      "Charge for the purpose of the Contract or any specific works.\n",
      "1\n",
      "\n"
     ]
    }
   ],
   "source": [
    "print(pages[1].page_content)"
   ]
  },
  {
   "cell_type": "code",
   "execution_count": null,
   "id": "b45bcc1d",
   "metadata": {},
   "outputs": [],
   "source": []
  }
 ],
 "metadata": {
  "kernelspec": {
   "display_name": "venv",
   "language": "python",
   "name": "python3"
  },
  "language_info": {
   "codemirror_mode": {
    "name": "ipython",
    "version": 3
   },
   "file_extension": ".py",
   "mimetype": "text/x-python",
   "name": "python",
   "nbconvert_exporter": "python",
   "pygments_lexer": "ipython3",
   "version": "3.11.7"
  }
 },
 "nbformat": 4,
 "nbformat_minor": 5
}
